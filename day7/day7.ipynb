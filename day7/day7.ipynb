{
 "cells": [
  {
   "cell_type": "code",
   "execution_count": 29,
   "metadata": {},
   "outputs": [],
   "source": [
    "from itertools import product"
   ]
  },
  {
   "cell_type": "code",
   "execution_count": 27,
   "metadata": {},
   "outputs": [],
   "source": [
    "input = open('test_input', 'r').read().split('\\n')"
   ]
  },
  {
   "cell_type": "code",
   "execution_count": 28,
   "metadata": {},
   "outputs": [],
   "source": [
    "equations = []\n",
    "for eqn in input:\n",
    "    a = [int(eqn.split(':')[0].strip())]\n",
    "    for i in eqn.split(':')[1].strip().split():\n",
    "        a.append(int(i.strip()))\n",
    "    equations.append(a)"
   ]
  },
  {
   "cell_type": "code",
   "execution_count": 30,
   "metadata": {},
   "outputs": [],
   "source": [
    "def eval_custom(string, soln):\n",
    "    chars = string.split()\n",
    "    temp = int(chars[0])\n",
    "    for i in range(len(chars[1:])):\n",
    "        if chars[i] == \"+\":\n",
    "            temp+=int(chars[i+1])\n",
    "        elif chars[i] == \"*\":\n",
    "            temp*=int(chars[i+1])\n",
    "        elif chars[i] == \"||\":\n",
    "            temp = int(str(temp)+str(chars[i+1]))\n",
    "            \n",
    "    return temp==soln"
   ]
  },
  {
   "cell_type": "markdown",
   "metadata": {},
   "source": [
    "## part 1"
   ]
  },
  {
   "cell_type": "code",
   "execution_count": 31,
   "metadata": {},
   "outputs": [
    {
     "data": {
      "text/plain": [
       "3749"
      ]
     },
     "execution_count": 31,
     "metadata": {},
     "output_type": "execute_result"
    }
   ],
   "source": [
    "val_sums = 0\n",
    "for eqn in equations:\n",
    "    soln = eqn[0]\n",
    "    numbers = eqn[1:]\n",
    "    \n",
    "    \n",
    "    operators = [' + ', ' * ']\n",
    "    for perms in product(operators, repeat=len(numbers)-1):\n",
    "        perms = list(perms)\n",
    "        eqn_str = \"\"\n",
    "        for i in range(len(numbers)):\n",
    "            eqn_str += str(numbers[i])\n",
    "            if i < len(perms):\n",
    "                eqn_str += perms[i]\n",
    "        if eval_custom(eqn_str, soln):\n",
    "            val_sums += soln\n",
    "            break\n",
    "            \n",
    "val_sums"
   ]
  },
  {
   "cell_type": "markdown",
   "metadata": {},
   "source": [
    "## part 2"
   ]
  },
  {
   "cell_type": "code",
   "execution_count": 32,
   "metadata": {},
   "outputs": [
    {
     "data": {
      "text/plain": [
       "11387"
      ]
     },
     "execution_count": 32,
     "metadata": {},
     "output_type": "execute_result"
    }
   ],
   "source": [
    "val_sums = 0\n",
    "for eqn in equations:\n",
    "    soln = eqn[0]\n",
    "    numbers = eqn[1:]\n",
    "    \n",
    "    \n",
    "    operators = [' + ', ' * ', ' || ']\n",
    "    for perms in product(operators, repeat=len(numbers)-1):\n",
    "        perms = list(perms)\n",
    "        eqn_str = \"\"\n",
    "        for i in range(len(numbers)):\n",
    "            eqn_str += str(numbers[i])\n",
    "            if i < len(perms):\n",
    "                eqn_str += perms[i]\n",
    "                \n",
    "        if eval_custom(eqn_str, soln):\n",
    "            val_sums += soln\n",
    "            break\n",
    "            \n",
    "val_sums"
   ]
  }
 ],
 "metadata": {
  "kernelspec": {
   "display_name": "Python 3",
   "language": "python",
   "name": "python3"
  },
  "language_info": {
   "codemirror_mode": {
    "name": "ipython",
    "version": 3
   },
   "file_extension": ".py",
   "mimetype": "text/x-python",
   "name": "python",
   "nbconvert_exporter": "python",
   "pygments_lexer": "ipython3",
   "version": "3.10.11"
  }
 },
 "nbformat": 4,
 "nbformat_minor": 2
}
