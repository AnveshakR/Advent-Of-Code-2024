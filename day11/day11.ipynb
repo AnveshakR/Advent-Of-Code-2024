{
 "cells": [
  {
   "cell_type": "code",
   "execution_count": 105,
   "metadata": {},
   "outputs": [
    {
     "data": {
      "text/plain": [
       "257246536026785"
      ]
     },
     "execution_count": 105,
     "metadata": {},
     "output_type": "execute_result"
    }
   ],
   "source": [
    "input_stones = list(map(int, open('input', 'r').read().split()))\n",
    "appearances = {}\n",
    "# key=number, val=num of appearances\n",
    "for i in input_stones:\n",
    "    if i in appearances:\n",
    "        appearances[i] += 1\n",
    "    else:\n",
    "        appearances[i] = 1\n",
    "        \n",
    "blinks = 75\n",
    "for _ in range(blinks):\n",
    "    # print appearances dict for keys that have values > 0\n",
    "    current_keys = list(appearances.keys())\n",
    "    new_dict = {}\n",
    "    for key in current_keys:\n",
    "        # replace number of appearances of 0 with 1\n",
    "        if key == 0:\n",
    "            new_dict[1] = appearances[0] + new_dict.get(1, 0)\n",
    "            \n",
    "        # if length of key is even then it will be split into 2 equal parts\n",
    "        elif len(str(key)) % 2 == 0:\n",
    "            half = len(str(key)) // 2\n",
    "            new_dict[int(str(key)[:half])] = new_dict.get(int(str(key)[:half]), 0) + appearances[key]\n",
    "            new_dict[int(str(key)[half:])] = new_dict.get(int(str(key)[half:]), 0) + appearances[key]\n",
    "            \n",
    "        else:\n",
    "            new_dict[key*2024] = new_dict.get(key*2024, 0) + appearances[key]\n",
    "    appearances = new_dict\n",
    "            \n",
    "sum(appearances.values())"
   ]
  },
  {
   "cell_type": "code",
   "execution_count": null,
   "metadata": {},
   "outputs": [],
   "source": []
  }
 ],
 "metadata": {
  "kernelspec": {
   "display_name": "Python 3",
   "language": "python",
   "name": "python3"
  },
  "language_info": {
   "codemirror_mode": {
    "name": "ipython",
    "version": 3
   },
   "file_extension": ".py",
   "mimetype": "text/x-python",
   "name": "python",
   "nbconvert_exporter": "python",
   "pygments_lexer": "ipython3",
   "version": "3.10.11"
  }
 },
 "nbformat": 4,
 "nbformat_minor": 2
}
