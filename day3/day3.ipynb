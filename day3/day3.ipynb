{
 "cells": [
  {
   "cell_type": "code",
   "execution_count": 1,
   "metadata": {},
   "outputs": [],
   "source": [
    "import re\n",
    "from functools import reduce"
   ]
  },
  {
   "cell_type": "code",
   "execution_count": 79,
   "metadata": {},
   "outputs": [],
   "source": [
    "input_seq = ''.join(open('test_input1', 'r').readlines())"
   ]
  },
  {
   "cell_type": "markdown",
   "metadata": {},
   "source": [
    "## part 1"
   ]
  },
  {
   "cell_type": "code",
   "execution_count": 80,
   "metadata": {},
   "outputs": [
    {
     "data": {
      "text/plain": [
       "161"
      ]
     },
     "execution_count": 80,
     "metadata": {},
     "output_type": "execute_result"
    }
   ],
   "source": [
    "pattern = r'mul\\((\\d{1,3})\\,(\\d{1,3})\\)'\n",
    "prod_sum = sum(reduce(lambda a, b: a * b, map(int, x)) for x in re.findall(pattern, input_seq))\n",
    "prod_sum"
   ]
  },
  {
   "cell_type": "markdown",
   "metadata": {},
   "source": [
    "## part 2"
   ]
  },
  {
   "cell_type": "code",
   "execution_count": 81,
   "metadata": {},
   "outputs": [],
   "source": [
    "input_seq = ''.join(open('test_input2', 'r').readlines())"
   ]
  },
  {
   "cell_type": "code",
   "execution_count": 82,
   "metadata": {},
   "outputs": [],
   "source": [
    "mul_pattern = r'mul\\((\\d{1,3})\\,(\\d{1,3})\\)'\n",
    "do_pattern = r'do\\(\\)'\n",
    "dont_pattern = r'don\\'t\\(\\)'\n",
    "combine_pattern = '|'.join([mul_pattern, do_pattern, dont_pattern])"
   ]
  },
  {
   "cell_type": "code",
   "execution_count": 83,
   "metadata": {},
   "outputs": [],
   "source": [
    "combine = re.compile(combine_pattern)"
   ]
  },
  {
   "cell_type": "code",
   "execution_count": 85,
   "metadata": {},
   "outputs": [],
   "source": [
    "operations = {}\n",
    "\n",
    "for m in combine.finditer(input_seq):\n",
    "    operations[m.start()] = m.group()"
   ]
  },
  {
   "cell_type": "code",
   "execution_count": 86,
   "metadata": {},
   "outputs": [],
   "source": [
    "def prod_from_mul(match):\n",
    "    prod = 1\n",
    "    for i in re.findall(mul_pattern, match):\n",
    "        for num in i:\n",
    "            prod*= int(num)\n",
    "\n",
    "    return prod\n",
    "    "
   ]
  },
  {
   "cell_type": "code",
   "execution_count": 87,
   "metadata": {},
   "outputs": [
    {
     "name": "stdout",
     "output_type": "stream",
     "text": [
      "48\n"
     ]
    }
   ],
   "source": [
    "total_sum = 0\n",
    "mul_flag = True\n",
    "for key in operations:\n",
    "    if operations[key].find(\"don\") != -1:\n",
    "        mul_flag = False\n",
    "    elif operations[key].find('do') != -1:\n",
    "        mul_flag = True\n",
    "    elif operations[key].find('mul') != -1 and mul_flag:\n",
    "        total_sum += prod_from_mul(operations[key])\n",
    "\n",
    "print(total_sum)"
   ]
  }
 ],
 "metadata": {
  "kernelspec": {
   "display_name": "Python 3",
   "language": "python",
   "name": "python3"
  },
  "language_info": {
   "codemirror_mode": {
    "name": "ipython",
    "version": 3
   },
   "file_extension": ".py",
   "mimetype": "text/x-python",
   "name": "python",
   "nbconvert_exporter": "python",
   "pygments_lexer": "ipython3",
   "version": "3.10.11"
  }
 },
 "nbformat": 4,
 "nbformat_minor": 2
}
