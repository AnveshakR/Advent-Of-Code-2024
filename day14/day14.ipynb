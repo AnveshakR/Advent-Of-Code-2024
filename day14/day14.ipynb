{
 "cells": [
  {
   "cell_type": "code",
   "execution_count": 144,
   "metadata": {},
   "outputs": [],
   "source": [
    "from copy import deepcopy"
   ]
  },
  {
   "cell_type": "code",
   "execution_count": 119,
   "metadata": {},
   "outputs": [],
   "source": [
    "input_robot_data = open(\"input\", \"r\").read().split(\"\\n\")\n",
    "for x in range(len(input_robot_data)):\n",
    "    input_robot_data[x] = input_robot_data[x].split()\n",
    "    input_robot_data[x][0] = list(map(int, input_robot_data[x][0].split(\"=\")[1].split(\",\")))\n",
    "    input_robot_data[x][1] = list(map(int, input_robot_data[x][1].split(\"=\")[1].split(\",\")))"
   ]
  },
  {
   "cell_type": "code",
   "execution_count": 118,
   "metadata": {},
   "outputs": [],
   "source": [
    "map_size = (101, 103)"
   ]
  },
  {
   "cell_type": "code",
   "execution_count": 145,
   "metadata": {},
   "outputs": [],
   "source": [
    "def print_map(map_size, pos:list, remove_middle=False):\n",
    "    printable_map = []\n",
    "    for y in range(map_size[1]):\n",
    "        row = []\n",
    "        for x in range(map_size[0]):\n",
    "            if remove_middle:\n",
    "                if x == map_size[0] // 2 or y == map_size[1] // 2:\n",
    "                    row.append(\" \")\n",
    "                    continue\n",
    "            if [x, y] in pos:\n",
    "                row.append(str(pos.count([x, y])))\n",
    "            else:\n",
    "                row.append(\".\")\n",
    "        printable_map.append(row)\n",
    "    \n",
    "    return printable_map"
   ]
  },
  {
   "cell_type": "code",
   "execution_count": 146,
   "metadata": {},
   "outputs": [],
   "source": [
    "def final_pos(map_size, pos, vel, steps):\n",
    "    final_pos = []\n",
    "    final_pos.append((pos[0] + vel[0]*steps)%map_size[0])\n",
    "    final_pos.append((pos[1] + vel[1]*steps)%map_size[1])\n",
    "    return final_pos"
   ]
  },
  {
   "cell_type": "markdown",
   "metadata": {},
   "source": [
    "## part 1"
   ]
  },
  {
   "cell_type": "code",
   "execution_count": 66,
   "metadata": {},
   "outputs": [],
   "source": [
    "data = input_robot_data.copy()\n",
    "for bot in data:\n",
    "    bot[0] = final_pos(map_size, bot[0], bot[1], 100)"
   ]
  },
  {
   "cell_type": "code",
   "execution_count": null,
   "metadata": {},
   "outputs": [],
   "source": [
    "quad_counts = [0, 0, 0, 0]\n",
    "for bot in data:\n",
    "    if bot[0][0] < map_size[0] // 2 and bot[0][1] < map_size[1] // 2:\n",
    "        quad_counts[0] += 1\n",
    "    elif bot[0][0] > map_size[0] // 2 and bot[0][1] < map_size[1] // 2:\n",
    "        quad_counts[1] += 1\n",
    "    elif bot[0][0] > map_size[0] // 2 and bot[0][1] > map_size[1] // 2:\n",
    "        quad_counts[2] += 1\n",
    "    elif bot[0][0] < map_size[0] // 2 and bot[0][1] > map_size[1] // 2:\n",
    "        quad_counts[3] += 1\n",
    "      \n",
    "prod = 1  \n",
    "for x in quad_counts:\n",
    "    if x == 0:\n",
    "        continue\n",
    "    prod *= x\n",
    "    \n",
    "print(prod)"
   ]
  },
  {
   "cell_type": "markdown",
   "metadata": {},
   "source": [
    "## part 2"
   ]
  },
  {
   "cell_type": "code",
   "execution_count": null,
   "metadata": {},
   "outputs": [],
   "source": [
    "counter = 0\n",
    "while(True):\n",
    "    counter += 1\n",
    "    # .COPY() DOES NOT WORK FOR NESTED LISTS\n",
    "    # USE DEEPCOPY INSTEAD\n",
    "    data = deepcopy(input_robot_data) \n",
    "    for bot in data:\n",
    "        bot[0] = final_pos(map_size, bot[0], bot[1], counter)\n",
    "        \n",
    "    # get distances between all bots and track number of adjacent bots\n",
    "    one_distance_points = 0\n",
    "    for bot in data:\n",
    "        for other_bot in data:\n",
    "            if bot == other_bot:\n",
    "                continue\n",
    "            if abs(bot[0][0] - other_bot[0][0]) + abs(bot[0][1] - other_bot[0][1]) == 1:\n",
    "                one_distance_points += 1\n",
    "                \n",
    "    if one_distance_points >= 350:\n",
    "        \n",
    "        print(f\"Solution counter: {counter}, one_distance_points: {one_distance_points}\")\n",
    "        break\n",
    "    \n",
    "printable_map = print_map(map_size, [bot[0] for bot in data], remove_middle=False)\n",
    "for row in printable_map:\n",
    "    print(\" \".join(row))"
   ]
  }
 ],
 "metadata": {
  "kernelspec": {
   "display_name": "Python 3",
   "language": "python",
   "name": "python3"
  },
  "language_info": {
   "codemirror_mode": {
    "name": "ipython",
    "version": 3
   },
   "file_extension": ".py",
   "mimetype": "text/x-python",
   "name": "python",
   "nbconvert_exporter": "python",
   "pygments_lexer": "ipython3",
   "version": "3.10.11"
  }
 },
 "nbformat": 4,
 "nbformat_minor": 2
}
