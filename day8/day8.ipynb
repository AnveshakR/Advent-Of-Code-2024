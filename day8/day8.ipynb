{
 "cells": [
  {
   "cell_type": "code",
   "execution_count": 161,
   "metadata": {},
   "outputs": [],
   "source": [
    "import numpy as np"
   ]
  },
  {
   "cell_type": "code",
   "execution_count": 162,
   "metadata": {},
   "outputs": [],
   "source": [
    "input_map = [list(line.strip()) for line in open('test_input').readlines()]"
   ]
  },
  {
   "cell_type": "code",
   "execution_count": 163,
   "metadata": {},
   "outputs": [],
   "source": [
    "locations = {}\n",
    "for x, row in enumerate(input_map):\n",
    "    for y, cell in enumerate(row):\n",
    "        if cell != '.':\n",
    "            cell = str(cell)\n",
    "            if cell not in locations:\n",
    "                locations[cell] = []\n",
    "            locations[cell].append((x, y))\n"
   ]
  },
  {
   "cell_type": "markdown",
   "metadata": {},
   "source": [
    "## part 1"
   ]
  },
  {
   "cell_type": "code",
   "execution_count": 164,
   "metadata": {},
   "outputs": [
    {
     "name": "stdout",
     "output_type": "stream",
     "text": [
      "14\n"
     ]
    }
   ],
   "source": [
    "required_points = set()\n",
    "\n",
    "for antenna, points in locations.items():\n",
    "    for point1 in points:\n",
    "        for point2 in points:\n",
    "            if point1 == point2:\n",
    "                continue\n",
    "            else:\n",
    "                p1 = (2*point1[0] - point2[0], 2*point1[1] - point2[1])\n",
    "                p2 = (2*point2[0] - point1[0], 2*point2[1] - point1[1])\n",
    "                if p1[0] >= 0 and p1[0] < len(input_map) and p1[1] >= 0 and p1[1] < len(input_map[0]):\n",
    "                    required_points.add(p1)\n",
    "                \n",
    "\n",
    "print(len(required_points))"
   ]
  },
  {
   "cell_type": "markdown",
   "metadata": {},
   "source": [
    "## part 2"
   ]
  },
  {
   "cell_type": "code",
   "execution_count": 166,
   "metadata": {},
   "outputs": [],
   "source": [
    "def get_other_point(point1, midpoint):\n",
    "    return (2*midpoint[0] - point1[0], 2*midpoint[1] - point1[1])"
   ]
  },
  {
   "cell_type": "code",
   "execution_count": 167,
   "metadata": {},
   "outputs": [
    {
     "name": "stdout",
     "output_type": "stream",
     "text": [
      "34\n"
     ]
    }
   ],
   "source": [
    "required_points = set()\n",
    "\n",
    "for antenna, points in locations.items():\n",
    "    \n",
    "    if len(points) != 1:\n",
    "        required_points.update(points)\n",
    "        \n",
    "    for point1 in points:\n",
    "        for point2 in points:\n",
    "            if point1 == point2:\n",
    "                continue\n",
    "            else:\n",
    "                p1 = point1\n",
    "                p2 = point2\n",
    "                \n",
    "                while True:\n",
    "                    p3 = get_other_point(p1, p2)\n",
    "                    if p3[0] < 0 or p3[0] >= len(input_map) or p3[1] < 0 or p3[1] >= len(input_map[0]):\n",
    "                        break\n",
    "                    else:\n",
    "                        required_points.add(p3)\n",
    "                        p1 = p2\n",
    "                        p2 = p3\n",
    "                        \n",
    "                p1 = point1\n",
    "                p2 = point2\n",
    "                while True:\n",
    "                    p4 = get_other_point(p2, p1)\n",
    "                    if p4[0] < 0 or p4[0] >= len(input_map) or p4[1] < 0 or p4[1] >= len(input_map[0]):\n",
    "                        break\n",
    "                    else:\n",
    "                        required_points.add(p4)\n",
    "                        p2 = p1\n",
    "                        p1 = p4\n",
    "                    \n",
    "                    \n",
    "print(len(required_points))"
   ]
  }
 ],
 "metadata": {
  "kernelspec": {
   "display_name": "Python 3",
   "language": "python",
   "name": "python3"
  },
  "language_info": {
   "codemirror_mode": {
    "name": "ipython",
    "version": 3
   },
   "file_extension": ".py",
   "mimetype": "text/x-python",
   "name": "python",
   "nbconvert_exporter": "python",
   "pygments_lexer": "ipython3",
   "version": "3.10.11"
  }
 },
 "nbformat": 4,
 "nbformat_minor": 2
}
