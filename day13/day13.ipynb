{
 "cells": [
  {
   "cell_type": "code",
   "execution_count": 90,
   "metadata": {},
   "outputs": [],
   "source": [
    "import numpy as np\n",
    "import math"
   ]
  },
  {
   "cell_type": "markdown",
   "metadata": {},
   "source": [
    "## part 1"
   ]
  },
  {
   "cell_type": "code",
   "execution_count": 91,
   "metadata": {},
   "outputs": [],
   "source": [
    "input_machines = open('test_input').read().strip().split('\\n\\n')\n",
    "input_machines = [m.split('\\n') for m in input_machines]\n",
    "input_dicts = []\n",
    "for m in input_machines:\n",
    "    d = {}\n",
    "    d['A'] = {}\n",
    "    d['A']['X'] = int(m[0].split(': ')[1].strip().split(', ')[0].strip().split('+')[1])\n",
    "    d['A']['Y'] = int(m[0].split(': ')[1].strip().split(', ')[1].strip().split('+')[1])\n",
    "    d['B'] = {}\n",
    "    d['B']['X'] = int(m[1].split(': ')[1].strip().split(', ')[0].strip().split('+')[1])\n",
    "    d['B']['Y'] = int(m[1].split(': ')[1].strip().split(', ')[1].strip().split('+')[1])\n",
    "    d['Prize'] = {}\n",
    "    d['Prize']['X'] = int(m[2].split(': ')[1].strip().split(', ')[0].strip().split('=')[1])\n",
    "    d['Prize']['Y'] = int(m[2].split(': ')[1].strip().split(', ')[1].strip().split('=')[1])\n",
    "    input_dicts.append(d)"
   ]
  },
  {
   "cell_type": "code",
   "execution_count": 92,
   "metadata": {},
   "outputs": [
    {
     "name": "stdout",
     "output_type": "stream",
     "text": [
      "480\n"
     ]
    }
   ],
   "source": [
    "tokens = 0\n",
    "for temp_dict in input_dicts:\n",
    "    coeff_matrix = np.array([\n",
    "        [temp_dict['A']['X'], temp_dict['B']['X']],\n",
    "        [temp_dict['A']['Y'], temp_dict['B']['Y']]\n",
    "    ])\n",
    "    prize_vector = np.array([temp_dict['Prize']['X'], temp_dict['Prize']['Y']])\n",
    "    soln = np.linalg.solve(coeff_matrix, prize_vector)\n",
    "    if all([math.isclose(x, round(x), rel_tol=1e-3) for x in soln]):\n",
    "        soln = np.round(soln).astype(int)\n",
    "        tokens += 3 * soln[0] + soln[1]\n",
    "\n",
    "print(tokens)\n"
   ]
  },
  {
   "cell_type": "markdown",
   "metadata": {},
   "source": [
    "## part 2"
   ]
  },
  {
   "cell_type": "code",
   "execution_count": 93,
   "metadata": {},
   "outputs": [],
   "source": [
    "input_machines = open('test_input').read().strip().split('\\n\\n')\n",
    "input_machines = [m.split('\\n') for m in input_machines]\n",
    "input_dicts = []\n",
    "for m in input_machines:\n",
    "    d = {}\n",
    "    d['A'] = {}\n",
    "    d['A']['X'] = int(m[0].split(': ')[1].strip().split(', ')[0].strip().split('+')[1])\n",
    "    d['A']['Y'] = int(m[0].split(': ')[1].strip().split(', ')[1].strip().split('+')[1])\n",
    "    d['B'] = {}\n",
    "    d['B']['X'] = int(m[1].split(': ')[1].strip().split(', ')[0].strip().split('+')[1])\n",
    "    d['B']['Y'] = int(m[1].split(': ')[1].strip().split(', ')[1].strip().split('+')[1])\n",
    "    d['Prize'] = {}\n",
    "    d['Prize']['X'] = int(m[2].split(': ')[1].strip().split(', ')[0].strip().split('=')[1])+10000000000000\n",
    "    d['Prize']['Y'] = int(m[2].split(': ')[1].strip().split(', ')[1].strip().split('=')[1])+10000000000000\n",
    "    input_dicts.append(d)"
   ]
  },
  {
   "cell_type": "code",
   "execution_count": 94,
   "metadata": {},
   "outputs": [
    {
     "name": "stdout",
     "output_type": "stream",
     "text": [
      "875318608908\n"
     ]
    }
   ],
   "source": [
    "tokens = 0\n",
    "counter = 0\n",
    "for temp_dict in input_dicts:\n",
    "    coeff_matrix = np.array([\n",
    "        [temp_dict['A']['X'], temp_dict['B']['X']],\n",
    "        [temp_dict['A']['Y'], temp_dict['B']['Y']]\n",
    "    ])\n",
    "    prize_vector = np.array([temp_dict['Prize']['X'], temp_dict['Prize']['Y']])\n",
    "    soln = np.linalg.solve(coeff_matrix, prize_vector)\n",
    "    if all([math.isclose(x, round(x), rel_tol=1e-15) for x in soln]):\n",
    "        soln = np.round(soln).astype(int)\n",
    "        tokens += 3 * soln[0] + soln[1]\n",
    "    counter += 1\n",
    "\n",
    "print(tokens)\n"
   ]
  }
 ],
 "metadata": {
  "kernelspec": {
   "display_name": "Python 3",
   "language": "python",
   "name": "python3"
  },
  "language_info": {
   "codemirror_mode": {
    "name": "ipython",
    "version": 3
   },
   "file_extension": ".py",
   "mimetype": "text/x-python",
   "name": "python",
   "nbconvert_exporter": "python",
   "pygments_lexer": "ipython3",
   "version": "3.10.11"
  }
 },
 "nbformat": 4,
 "nbformat_minor": 2
}
