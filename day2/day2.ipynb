{
 "cells": [
  {
   "cell_type": "code",
   "execution_count": 1,
   "metadata": {},
   "outputs": [],
   "source": [
    "level_list = [[int(y) for y in x.split()] for x in open('test_input', 'r').readlines()]"
   ]
  },
  {
   "cell_type": "markdown",
   "metadata": {},
   "source": [
    "## part 2"
   ]
  },
  {
   "cell_type": "code",
   "execution_count": 2,
   "metadata": {},
   "outputs": [
    {
     "name": "stdout",
     "output_type": "stream",
     "text": [
      "2\n"
     ]
    }
   ],
   "source": [
    "safe = 0\n",
    "\n",
    "for level in level_list:\n",
    "    unsafe_flag = False\n",
    "    if level == sorted(level) or level == sorted(level, reverse=True):\n",
    "        for i in range(len(level)-1, 0, -1):\n",
    "            diff = abs(level[i] - level[i-1])\n",
    "            if diff <1 or diff >3:\n",
    "                unsafe_flag = True\n",
    "                break\n",
    "        if not unsafe_flag:\n",
    "            safe+=1\n",
    "\n",
    "            \n",
    "\n",
    "print(safe)"
   ]
  },
  {
   "cell_type": "markdown",
   "metadata": {},
   "source": [
    "## part 2"
   ]
  },
  {
   "cell_type": "code",
   "execution_count": 3,
   "metadata": {},
   "outputs": [
    {
     "name": "stdout",
     "output_type": "stream",
     "text": [
      "4\n"
     ]
    }
   ],
   "source": [
    "safe = 0\n",
    "\n",
    "def is_level_safe(level):\n",
    "    unsafe_flag = False\n",
    "    if level == sorted(level) or level == sorted(level, reverse=True):\n",
    "        for i in range(len(level)-1, 0, -1):\n",
    "            diff = abs(level[i] - level[i-1])\n",
    "            if diff <1 or diff >3:\n",
    "                unsafe_flag = True\n",
    "                break\n",
    "        if not unsafe_flag:\n",
    "            return 1\n",
    "    return 0\n",
    "\n",
    "for level in level_list:\n",
    "    if is_level_safe(level) == 1:\n",
    "        safe+=1\n",
    "\n",
    "    else:\n",
    "        for i in range(len(level)):\n",
    "            temp_level = level.copy()\n",
    "            temp_level.pop(i)\n",
    "            if is_level_safe(temp_level):\n",
    "                safe+=1\n",
    "                break\n",
    "\n",
    "\n",
    "            \n",
    "\n",
    "print(safe)"
   ]
  }
 ],
 "metadata": {
  "kernelspec": {
   "display_name": "Python 3",
   "language": "python",
   "name": "python3"
  },
  "language_info": {
   "codemirror_mode": {
    "name": "ipython",
    "version": 3
   },
   "file_extension": ".py",
   "mimetype": "text/x-python",
   "name": "python",
   "nbconvert_exporter": "python",
   "pygments_lexer": "ipython3",
   "version": "3.10.11"
  }
 },
 "nbformat": 4,
 "nbformat_minor": 2
}
