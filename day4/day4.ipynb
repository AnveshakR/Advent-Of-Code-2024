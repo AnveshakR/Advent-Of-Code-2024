{
 "cells": [
  {
   "cell_type": "code",
   "execution_count": 179,
   "metadata": {},
   "outputs": [],
   "source": [
    "import numpy as np"
   ]
  },
  {
   "cell_type": "code",
   "execution_count": 180,
   "metadata": {},
   "outputs": [],
   "source": [
    "crossword = [list(x.strip()) for x in open('test_input', 'r').readlines()]\n",
    "crossword = np.array(crossword)"
   ]
  },
  {
   "cell_type": "markdown",
   "metadata": {},
   "source": [
    "## part 1"
   ]
  },
  {
   "cell_type": "code",
   "execution_count": null,
   "metadata": {},
   "outputs": [],
   "source": [
    "def get_8_dir_slices(center: tuple, matrix: np.ndarray, diag_len: int):\n",
    "    if matrix.shape[0] < diag_len or matrix.shape[1] < diag_len:\n",
    "        return []\n",
    "\n",
    "    rows, cols = matrix.shape\n",
    "    cx, cy = center\n",
    "    slices = []\n",
    "\n",
    "    # get diagonal slices\n",
    "    def get_diag_slice(dx, dy):\n",
    "        return ''.join(matrix[cx + i * dx, cy + i * dy] for i in range(diag_len))\n",
    "\n",
    "    # diagonals\n",
    "    if rows - cx >= diag_len and cols - cy >= diag_len:\n",
    "        slices.append(get_diag_slice(1, 1))  # Bottom-right\n",
    "    if rows - cx >= diag_len and cy >= diag_len - 1:\n",
    "        slices.append(get_diag_slice(1, -1))  # Bottom-left\n",
    "    if cx >= diag_len - 1 and cy >= diag_len - 1:\n",
    "        slices.append(get_diag_slice(-1, -1))  # Top-left\n",
    "    if cx >= diag_len - 1 and cols - cy >= diag_len:\n",
    "        slices.append(get_diag_slice(-1, 1))  # Top-right\n",
    "\n",
    "    # Horizontal and vertical directions\n",
    "    if cy >= diag_len - 1:\n",
    "        slices.append(''.join(matrix[cx, cy - i] for i in range(diag_len)))  # Left\n",
    "    if cols - cy >= diag_len:\n",
    "        slices.append(''.join(matrix[cx, cy + i] for i in range(diag_len)))  # Right\n",
    "    if cx >= diag_len - 1:\n",
    "        slices.append(''.join(matrix[cx - i, cy] for i in range(diag_len)))  # Top\n",
    "    if rows - cx >= diag_len:\n",
    "        slices.append(''.join(matrix[cx + i, cy] for i in range(diag_len)))  # Bottom\n",
    "\n",
    "    return slices\n"
   ]
  },
  {
   "cell_type": "code",
   "execution_count": 182,
   "metadata": {},
   "outputs": [
    {
     "name": "stdout",
     "output_type": "stream",
     "text": [
      "18\n"
     ]
    }
   ],
   "source": [
    "xmas_count = 0\n",
    "for i in range(crossword.shape[0]):\n",
    "    for j in range(crossword.shape[1]):\n",
    "        if crossword[i][j] == 'X':\n",
    "            xmas_count += get_8_dir_slices((i, j), crossword, 4).count('XMAS')\n",
    "        \n",
    "print(xmas_count)"
   ]
  },
  {
   "cell_type": "markdown",
   "metadata": {},
   "source": [
    "## part 2"
   ]
  },
  {
   "cell_type": "code",
   "execution_count": null,
   "metadata": {},
   "outputs": [],
   "source": [
    "def get_cross(center: tuple, matrix: np.ndarray):\n",
    "    diag_len = 2\n",
    "    if matrix.shape[0] < diag_len or matrix.shape[1] < diag_len:\n",
    "        return []\n",
    "\n",
    "    rows, cols = matrix.shape\n",
    "    cx, cy = center\n",
    "    slices = []\n",
    "\n",
    "    # get diagonal slices\n",
    "    def get_diag_slice(dx, dy):\n",
    "        return ''.join(matrix[cx + i * dx, cy + i * dy] for i in range(diag_len))[1:] # Skip the first character to skip center of cross\n",
    "\n",
    "    # diagonals\n",
    "    if cx >= diag_len - 1 and cy >= diag_len - 1:\n",
    "        slices.append(get_diag_slice(-1, -1))  # Top-left\n",
    "    if cx >= diag_len - 1 and cols - cy >= diag_len:\n",
    "        slices.append(get_diag_slice(-1, 1))  # Top-right\n",
    "    if rows - cx >= diag_len and cols - cy >= diag_len:\n",
    "        slices.append(get_diag_slice(1, 1))  # Bottom-right\n",
    "    if rows - cx >= diag_len and cy >= diag_len - 1:\n",
    "        slices.append(get_diag_slice(1, -1))  # Bottom-left\n",
    "\n",
    "    return ''.join(slices)\n"
   ]
  },
  {
   "cell_type": "code",
   "execution_count": 184,
   "metadata": {},
   "outputs": [
    {
     "name": "stdout",
     "output_type": "stream",
     "text": [
      "9\n"
     ]
    }
   ],
   "source": [
    "x_mas_count = 0\n",
    "possible_crosses = ['MMSS', 'MSSM', 'SSMM', 'SMMS']\n",
    "# skip outer edges\n",
    "for i in range(1, crossword.shape[0]-1):\n",
    "    for j in range(1, crossword.shape[1]-1):\n",
    "        if crossword[i][j] == 'A':\n",
    "            x_mas_count += get_cross((i, j), crossword) in possible_crosses\n",
    "                \n",
    "print(x_mas_count)"
   ]
  },
  {
   "cell_type": "code",
   "execution_count": null,
   "metadata": {},
   "outputs": [],
   "source": []
  }
 ],
 "metadata": {
  "kernelspec": {
   "display_name": "Python 3",
   "language": "python",
   "name": "python3"
  },
  "language_info": {
   "codemirror_mode": {
    "name": "ipython",
    "version": 3
   },
   "file_extension": ".py",
   "mimetype": "text/x-python",
   "name": "python",
   "nbconvert_exporter": "python",
   "pygments_lexer": "ipython3",
   "version": "3.10.11"
  }
 },
 "nbformat": 4,
 "nbformat_minor": 2
}
