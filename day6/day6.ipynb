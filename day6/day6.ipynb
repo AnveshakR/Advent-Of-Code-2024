{
 "cells": [
  {
   "cell_type": "code",
   "execution_count": 4,
   "metadata": {},
   "outputs": [],
   "source": [
    "from tqdm import tqdm"
   ]
  },
  {
   "cell_type": "code",
   "execution_count": 5,
   "metadata": {},
   "outputs": [],
   "source": [
    "input_map = open('test_input', 'r').read().split('\\n')"
   ]
  },
  {
   "cell_type": "code",
   "execution_count": 6,
   "metadata": {},
   "outputs": [],
   "source": [
    "starting_pos = (0,0)\n",
    "for i in range(len(input_map)):\n",
    "    if input_map[i].find('^') != -1:\n",
    "        starting_pos = (i, input_map[i].find('^'))\n",
    "        break"
   ]
  },
  {
   "cell_type": "markdown",
   "metadata": {},
   "source": [
    "## part 1"
   ]
  },
  {
   "cell_type": "code",
   "execution_count": 7,
   "metadata": {},
   "outputs": [
    {
     "name": "stdout",
     "output_type": "stream",
     "text": [
      "41\n"
     ]
    }
   ],
   "source": [
    "curr_pos = starting_pos\n",
    "curr_direction = 'up'\n",
    "positions = set()\n",
    "\n",
    "while(curr_pos[0]>=0 and\n",
    "    curr_pos[0]<len(input_map) and\n",
    "    curr_pos[1]>=0 and\n",
    "    curr_pos[1]<len(input_map[0])):\n",
    "    positions.add(curr_pos)\n",
    "    \n",
    "    if curr_direction == 'up' and curr_pos[0]-1>=0:\n",
    "        if input_map[curr_pos[0]-1][curr_pos[1]] != '#':\n",
    "            curr_pos = (curr_pos[0]-1, curr_pos[1])\n",
    "        else:\n",
    "            curr_direction = 'right'\n",
    "        \n",
    "    elif curr_direction == 'right' and curr_pos[1]+1<len(input_map[0]):\n",
    "        if input_map[curr_pos[0]][curr_pos[1]+1] != '#':\n",
    "            curr_pos = (curr_pos[0], curr_pos[1]+1)\n",
    "        else:\n",
    "            curr_direction = 'down'\n",
    "            \n",
    "    elif curr_direction == 'down' and curr_pos[0]+1<len(input_map):\n",
    "        if input_map[curr_pos[0]+1][curr_pos[1]] != '#':\n",
    "            curr_pos = (curr_pos[0]+1, curr_pos[1])\n",
    "        else:\n",
    "            curr_direction = 'left'\n",
    "            \n",
    "    elif curr_direction == 'left' and curr_pos[1]-1>=0:\n",
    "        if input_map[curr_pos[0]][curr_pos[1]-1] != '#':\n",
    "            curr_pos = (curr_pos[0], curr_pos[1]-1)\n",
    "        else:\n",
    "            curr_direction = 'up'\n",
    "            \n",
    "    else:\n",
    "        break\n",
    "\n",
    "print(len(positions))"
   ]
  },
  {
   "cell_type": "markdown",
   "metadata": {},
   "source": [
    "## part 2"
   ]
  },
  {
   "cell_type": "code",
   "execution_count": 8,
   "metadata": {},
   "outputs": [
    {
     "name": "stderr",
     "output_type": "stream",
     "text": [
      "100%|██████████| 41/41 [00:00<00:00, 20753.86it/s]"
     ]
    },
    {
     "name": "stdout",
     "output_type": "stream",
     "text": [
      "6\n"
     ]
    },
    {
     "name": "stderr",
     "output_type": "stream",
     "text": [
      "\n"
     ]
    }
   ],
   "source": [
    "looped_ctr = 0\n",
    "\n",
    "for position in tqdm(positions):\n",
    "    if position == starting_pos:\n",
    "        continue\n",
    "    input_copy = input_map.copy()\n",
    "    input_copy[position[0]] = input_copy[position[0]][:position[1]] + '#' + input_copy[position[0]][position[1]+1:]\n",
    "\n",
    "    visit_counter_set = set()\n",
    "\n",
    "    curr_pos = starting_pos\n",
    "    curr_direction = 'up'\n",
    "\n",
    "    while(True):\n",
    "        \n",
    "        visit_counter_set.add((curr_pos[0], curr_pos[1], curr_direction))\n",
    "\n",
    "        if curr_direction == 'up' and curr_pos[0]-1 >= 0:\n",
    "            if input_copy[curr_pos[0]-1][curr_pos[1]] != '#':\n",
    "                curr_pos = (curr_pos[0]-1, curr_pos[1])\n",
    "            else:\n",
    "                curr_direction = 'right'\n",
    "\n",
    "        elif curr_direction == 'right' and curr_pos[1]+1 < len(input_copy[0]):\n",
    "            if input_copy[curr_pos[0]][curr_pos[1]+1] != '#':\n",
    "                curr_pos = (curr_pos[0], curr_pos[1]+1)\n",
    "            else:\n",
    "                curr_direction = 'down'\n",
    "\n",
    "        elif curr_direction == 'down' and curr_pos[0]+1 < len(input_copy):\n",
    "            if input_copy[curr_pos[0]+1][curr_pos[1]] != '#':\n",
    "                curr_pos = (curr_pos[0]+1, curr_pos[1])\n",
    "            else:\n",
    "                curr_direction = 'left'\n",
    "\n",
    "        elif curr_direction == 'left' and curr_pos[1]-1 >= 0:\n",
    "            if input_copy[curr_pos[0]][curr_pos[1]-1] != '#':\n",
    "                curr_pos = (curr_pos[0], curr_pos[1]-1)\n",
    "            else:\n",
    "                curr_direction = 'up'\n",
    "                \n",
    "        else:\n",
    "            break\n",
    "                \n",
    "            \n",
    "        if (curr_pos[0], curr_pos[1], curr_direction) in visit_counter_set:\n",
    "            looped_ctr += 1\n",
    "            break\n",
    "    \n",
    "print(looped_ctr)\n",
    "                    "
   ]
  }
 ],
 "metadata": {
  "kernelspec": {
   "display_name": "Python 3",
   "language": "python",
   "name": "python3"
  },
  "language_info": {
   "codemirror_mode": {
    "name": "ipython",
    "version": 3
   },
   "file_extension": ".py",
   "mimetype": "text/x-python",
   "name": "python",
   "nbconvert_exporter": "python",
   "pygments_lexer": "ipython3",
   "version": "3.10.11"
  }
 },
 "nbformat": 4,
 "nbformat_minor": 2
}
