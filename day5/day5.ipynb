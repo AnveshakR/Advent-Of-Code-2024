{
 "cells": [
  {
   "cell_type": "code",
   "execution_count": 163,
   "metadata": {},
   "outputs": [],
   "source": [
    "import numpy as np"
   ]
  },
  {
   "cell_type": "code",
   "execution_count": 164,
   "metadata": {},
   "outputs": [],
   "source": [
    "ordering_rules, update_lists = open('test_input', 'r').read().split('\\n\\n')"
   ]
  },
  {
   "cell_type": "code",
   "execution_count": 165,
   "metadata": {},
   "outputs": [],
   "source": [
    "rules = []\n",
    "for rule in ordering_rules.split('\\n'):\n",
    "    rules.append(tuple(rule.strip().split('|')))"
   ]
  },
  {
   "cell_type": "code",
   "execution_count": 166,
   "metadata": {},
   "outputs": [],
   "source": [
    "lists = []\n",
    "for update_list in update_lists.split('\\n'):\n",
    "    lists.append(update_list.strip().split(','))"
   ]
  },
  {
   "cell_type": "markdown",
   "metadata": {},
   "source": [
    "## part 1"
   ]
  },
  {
   "cell_type": "code",
   "execution_count": 167,
   "metadata": {},
   "outputs": [],
   "source": [
    "def check_front_back_validity(rules, front_list, back_list, update_num):\n",
    "    rule_breakers = []\n",
    "    if front_list != []:\n",
    "        for i in front_list:\n",
    "            if (i,update_num) in rules:\n",
    "                rule_breakers.append((i, update_num))\n",
    "    if back_list != []:\n",
    "        for i in back_list:\n",
    "            if (update_num, i) in rules:\n",
    "                rule_breakers.append((update_num, i))\n",
    "    \n",
    "    if rule_breakers != []:\n",
    "        return False, rule_breakers\n",
    "    \n",
    "    return True, None\n"
   ]
  },
  {
   "cell_type": "code",
   "execution_count": 168,
   "metadata": {},
   "outputs": [
    {
     "data": {
      "text/plain": [
       "143"
      ]
     },
     "execution_count": 168,
     "metadata": {},
     "output_type": "execute_result"
    }
   ],
   "source": [
    "valid_updates_middle_num = []\n",
    "for update_list in lists:\n",
    "    is_not_valid = False\n",
    "    for update_index in range(len(update_list)):\n",
    "        if not check_front_back_validity(rules, \n",
    "                                    update_list[update_index+1:], \n",
    "                                    update_list[0:update_index],\n",
    "                                    update_list[update_index])[0]:\n",
    "            is_not_valid = True\n",
    "            break\n",
    "    if not is_not_valid:\n",
    "        valid_updates_middle_num.append(int(update_list[int((len(update_list)-1)/2)]))\n",
    "    \n",
    "sum(valid_updates_middle_num)"
   ]
  },
  {
   "cell_type": "markdown",
   "metadata": {},
   "source": [
    "## part 2"
   ]
  },
  {
   "cell_type": "code",
   "execution_count": 169,
   "metadata": {},
   "outputs": [],
   "source": [
    "invalid_lists = []\n",
    "invalid_list_breakers = []\n",
    "for update_list in lists:\n",
    "    for update_index in range(len(update_list)):\n",
    "        is_not_valid = check_front_back_validity(rules, \n",
    "                                    update_list[update_index+1:], \n",
    "                                    update_list[0:update_index],\n",
    "                                    update_list[update_index])[0]\n",
    "        if not is_not_valid:\n",
    "            invalid_lists.append(update_list)\n",
    "            break\n"
   ]
  },
  {
   "cell_type": "code",
   "execution_count": 170,
   "metadata": {},
   "outputs": [],
   "source": [
    "def bubble_sort(arr):\n",
    "    for i in range(len(arr) - 1, 0, -1):\n",
    "        \n",
    "        swapped = False\n",
    "        \n",
    "        for j in range(i):\n",
    "            if (arr[j+1], arr[j]) in rules:\n",
    "                arr[j], arr[j+1] = arr[j+1], arr[j]\n",
    "                \n",
    "                swapped = True\n",
    "                \n",
    "        if not swapped:\n",
    "            break\n",
    "        \n",
    "    return arr"
   ]
  },
  {
   "cell_type": "code",
   "execution_count": 171,
   "metadata": {},
   "outputs": [
    {
     "data": {
      "text/plain": [
       "123"
      ]
     },
     "execution_count": 171,
     "metadata": {},
     "output_type": "execute_result"
    }
   ],
   "source": [
    "middle_nums = []\n",
    "for invalid_list in invalid_lists:\n",
    "    corrected_list = bubble_sort(invalid_list)\n",
    "    middle_nums.append(int(corrected_list[int((len(corrected_list)-1)/2)]))\n",
    "    \n",
    "sum(middle_nums)"
   ]
  }
 ],
 "metadata": {
  "kernelspec": {
   "display_name": "Python 3",
   "language": "python",
   "name": "python3"
  },
  "language_info": {
   "codemirror_mode": {
    "name": "ipython",
    "version": 3
   },
   "file_extension": ".py",
   "mimetype": "text/x-python",
   "name": "python",
   "nbconvert_exporter": "python",
   "pygments_lexer": "ipython3",
   "version": "3.10.11"
  }
 },
 "nbformat": 4,
 "nbformat_minor": 2
}
